{
 "cells": [
  {
   "cell_type": "code",
   "execution_count": null,
   "id": "8c47d563",
   "metadata": {},
   "outputs": [],
   "source": [
    "#------------------Import & Check Dataset------------------------------------"
   ]
  },
  {
   "cell_type": "code",
   "execution_count": 119,
   "id": "ce6d42e5",
   "metadata": {},
   "outputs": [
    {
     "data": {
      "text/html": [
       "<div>\n",
       "<style scoped>\n",
       "    .dataframe tbody tr th:only-of-type {\n",
       "        vertical-align: middle;\n",
       "    }\n",
       "\n",
       "    .dataframe tbody tr th {\n",
       "        vertical-align: top;\n",
       "    }\n",
       "\n",
       "    .dataframe thead th {\n",
       "        text-align: right;\n",
       "    }\n",
       "</style>\n",
       "<table border=\"1\" class=\"dataframe\">\n",
       "  <thead>\n",
       "    <tr style=\"text-align: right;\">\n",
       "      <th></th>\n",
       "      <th>order_id</th>\n",
       "      <th>shop_id</th>\n",
       "      <th>user_id</th>\n",
       "      <th>order_amount</th>\n",
       "      <th>total_items</th>\n",
       "      <th>payment_method</th>\n",
       "      <th>created_at</th>\n",
       "    </tr>\n",
       "  </thead>\n",
       "  <tbody>\n",
       "    <tr>\n",
       "      <th>0</th>\n",
       "      <td>1</td>\n",
       "      <td>53</td>\n",
       "      <td>746</td>\n",
       "      <td>224</td>\n",
       "      <td>2</td>\n",
       "      <td>cash</td>\n",
       "      <td>2017/3/13 12:36</td>\n",
       "    </tr>\n",
       "    <tr>\n",
       "      <th>1</th>\n",
       "      <td>2</td>\n",
       "      <td>92</td>\n",
       "      <td>925</td>\n",
       "      <td>90</td>\n",
       "      <td>1</td>\n",
       "      <td>cash</td>\n",
       "      <td>2017/3/3 17:38</td>\n",
       "    </tr>\n",
       "    <tr>\n",
       "      <th>2</th>\n",
       "      <td>3</td>\n",
       "      <td>44</td>\n",
       "      <td>861</td>\n",
       "      <td>144</td>\n",
       "      <td>1</td>\n",
       "      <td>cash</td>\n",
       "      <td>2017/3/14 4:23</td>\n",
       "    </tr>\n",
       "    <tr>\n",
       "      <th>3</th>\n",
       "      <td>4</td>\n",
       "      <td>18</td>\n",
       "      <td>935</td>\n",
       "      <td>156</td>\n",
       "      <td>1</td>\n",
       "      <td>credit_card</td>\n",
       "      <td>2017/3/26 12:43</td>\n",
       "    </tr>\n",
       "    <tr>\n",
       "      <th>4</th>\n",
       "      <td>5</td>\n",
       "      <td>18</td>\n",
       "      <td>883</td>\n",
       "      <td>156</td>\n",
       "      <td>1</td>\n",
       "      <td>credit_card</td>\n",
       "      <td>2017/3/1 4:35</td>\n",
       "    </tr>\n",
       "  </tbody>\n",
       "</table>\n",
       "</div>"
      ],
      "text/plain": [
       "   order_id  shop_id  user_id  order_amount  total_items payment_method  \\\n",
       "0         1       53      746           224            2           cash   \n",
       "1         2       92      925            90            1           cash   \n",
       "2         3       44      861           144            1           cash   \n",
       "3         4       18      935           156            1    credit_card   \n",
       "4         5       18      883           156            1    credit_card   \n",
       "\n",
       "        created_at  \n",
       "0  2017/3/13 12:36  \n",
       "1   2017/3/3 17:38  \n",
       "2   2017/3/14 4:23  \n",
       "3  2017/3/26 12:43  \n",
       "4    2017/3/1 4:35  "
      ]
     },
     "execution_count": 119,
     "metadata": {},
     "output_type": "execute_result"
    }
   ],
   "source": [
    "import pandas as pd\n",
    "import numpy as np\n",
    "import matplotlib.pyplot as plt\n",
    "\n",
    "df = pd.read_csv(\"2019 Winter Data Science Intern Challenge Data Set - Sheet1.csv\")\n",
    "df.head()"
   ]
  },
  {
   "cell_type": "code",
   "execution_count": 120,
   "id": "01354608",
   "metadata": {},
   "outputs": [
    {
     "name": "stdout",
     "output_type": "stream",
     "text": [
      "<class 'pandas.core.frame.DataFrame'>\n",
      "RangeIndex: 5000 entries, 0 to 4999\n",
      "Data columns (total 7 columns):\n",
      " #   Column          Non-Null Count  Dtype \n",
      "---  ------          --------------  ----- \n",
      " 0   order_id        5000 non-null   int64 \n",
      " 1   shop_id         5000 non-null   int64 \n",
      " 2   user_id         5000 non-null   int64 \n",
      " 3   order_amount    5000 non-null   int64 \n",
      " 4   total_items     5000 non-null   int64 \n",
      " 5   payment_method  5000 non-null   object\n",
      " 6   created_at      5000 non-null   object\n",
      "dtypes: int64(5), object(2)\n",
      "memory usage: 273.6+ KB\n"
     ]
    }
   ],
   "source": [
    "df.info()"
   ]
  },
  {
   "cell_type": "code",
   "execution_count": 121,
   "id": "3531c174",
   "metadata": {},
   "outputs": [
    {
     "data": {
      "text/plain": [
       "order_id          5000\n",
       "shop_id            100\n",
       "user_id            301\n",
       "order_amount       258\n",
       "total_items          8\n",
       "payment_method       3\n",
       "created_at        4702\n",
       "dtype: int64"
      ]
     },
     "execution_count": 121,
     "metadata": {},
     "output_type": "execute_result"
    }
   ],
   "source": [
    "df.nunique()"
   ]
  },
  {
   "cell_type": "code",
   "execution_count": 122,
   "id": "7d3ea6c5",
   "metadata": {},
   "outputs": [
    {
     "data": {
      "text/html": [
       "<div>\n",
       "<style scoped>\n",
       "    .dataframe tbody tr th:only-of-type {\n",
       "        vertical-align: middle;\n",
       "    }\n",
       "\n",
       "    .dataframe tbody tr th {\n",
       "        vertical-align: top;\n",
       "    }\n",
       "\n",
       "    .dataframe thead th {\n",
       "        text-align: right;\n",
       "    }\n",
       "</style>\n",
       "<table border=\"1\" class=\"dataframe\">\n",
       "  <thead>\n",
       "    <tr style=\"text-align: right;\">\n",
       "      <th></th>\n",
       "      <th>order_id</th>\n",
       "      <th>shop_id</th>\n",
       "      <th>user_id</th>\n",
       "      <th>order_amount</th>\n",
       "      <th>total_items</th>\n",
       "      <th>payment_method</th>\n",
       "      <th>created_at</th>\n",
       "      <th>date</th>\n",
       "      <th>hour</th>\n",
       "    </tr>\n",
       "  </thead>\n",
       "  <tbody>\n",
       "    <tr>\n",
       "      <th>0</th>\n",
       "      <td>1</td>\n",
       "      <td>53</td>\n",
       "      <td>746</td>\n",
       "      <td>224</td>\n",
       "      <td>2</td>\n",
       "      <td>cash</td>\n",
       "      <td>2017-03-13 12:36:00</td>\n",
       "      <td>2017-03-13</td>\n",
       "      <td>12</td>\n",
       "    </tr>\n",
       "    <tr>\n",
       "      <th>1</th>\n",
       "      <td>2</td>\n",
       "      <td>92</td>\n",
       "      <td>925</td>\n",
       "      <td>90</td>\n",
       "      <td>1</td>\n",
       "      <td>cash</td>\n",
       "      <td>2017-03-03 17:38:00</td>\n",
       "      <td>2017-03-03</td>\n",
       "      <td>17</td>\n",
       "    </tr>\n",
       "    <tr>\n",
       "      <th>2</th>\n",
       "      <td>3</td>\n",
       "      <td>44</td>\n",
       "      <td>861</td>\n",
       "      <td>144</td>\n",
       "      <td>1</td>\n",
       "      <td>cash</td>\n",
       "      <td>2017-03-14 04:23:00</td>\n",
       "      <td>2017-03-14</td>\n",
       "      <td>4</td>\n",
       "    </tr>\n",
       "    <tr>\n",
       "      <th>3</th>\n",
       "      <td>4</td>\n",
       "      <td>18</td>\n",
       "      <td>935</td>\n",
       "      <td>156</td>\n",
       "      <td>1</td>\n",
       "      <td>credit_card</td>\n",
       "      <td>2017-03-26 12:43:00</td>\n",
       "      <td>2017-03-26</td>\n",
       "      <td>12</td>\n",
       "    </tr>\n",
       "    <tr>\n",
       "      <th>4</th>\n",
       "      <td>5</td>\n",
       "      <td>18</td>\n",
       "      <td>883</td>\n",
       "      <td>156</td>\n",
       "      <td>1</td>\n",
       "      <td>credit_card</td>\n",
       "      <td>2017-03-01 04:35:00</td>\n",
       "      <td>2017-03-01</td>\n",
       "      <td>4</td>\n",
       "    </tr>\n",
       "  </tbody>\n",
       "</table>\n",
       "</div>"
      ],
      "text/plain": [
       "   order_id  shop_id  user_id  order_amount  total_items payment_method  \\\n",
       "0         1       53      746           224            2           cash   \n",
       "1         2       92      925            90            1           cash   \n",
       "2         3       44      861           144            1           cash   \n",
       "3         4       18      935           156            1    credit_card   \n",
       "4         5       18      883           156            1    credit_card   \n",
       "\n",
       "           created_at        date  hour  \n",
       "0 2017-03-13 12:36:00  2017-03-13    12  \n",
       "1 2017-03-03 17:38:00  2017-03-03    17  \n",
       "2 2017-03-14 04:23:00  2017-03-14     4  \n",
       "3 2017-03-26 12:43:00  2017-03-26    12  \n",
       "4 2017-03-01 04:35:00  2017-03-01     4  "
      ]
     },
     "execution_count": 122,
     "metadata": {},
     "output_type": "execute_result"
    }
   ],
   "source": [
    "df['created_at']=pd.to_datetime(df['created_at'])\n",
    "df['date'] = df.created_at.dt.date\n",
    "df['hour'] = df.created_at.dt.hour\n",
    "df.head()"
   ]
  },
  {
   "cell_type": "code",
   "execution_count": 123,
   "id": "6b2f336d",
   "metadata": {},
   "outputs": [
    {
     "name": "stdout",
     "output_type": "stream",
     "text": [
      "<class 'pandas.core.frame.DataFrame'>\n",
      "RangeIndex: 5000 entries, 0 to 4999\n",
      "Data columns (total 9 columns):\n",
      " #   Column          Non-Null Count  Dtype         \n",
      "---  ------          --------------  -----         \n",
      " 0   order_id        5000 non-null   int64         \n",
      " 1   shop_id         5000 non-null   int64         \n",
      " 2   user_id         5000 non-null   int64         \n",
      " 3   order_amount    5000 non-null   int64         \n",
      " 4   total_items     5000 non-null   int64         \n",
      " 5   payment_method  5000 non-null   object        \n",
      " 6   created_at      5000 non-null   datetime64[ns]\n",
      " 7   date            5000 non-null   object        \n",
      " 8   hour            5000 non-null   int64         \n",
      "dtypes: datetime64[ns](1), int64(6), object(2)\n",
      "memory usage: 351.7+ KB\n"
     ]
    }
   ],
   "source": [
    "df.info()"
   ]
  },
  {
   "cell_type": "code",
   "execution_count": 124,
   "id": "79618a7b",
   "metadata": {},
   "outputs": [],
   "source": [
    "#------------------ Analysis------------------------------------------------"
   ]
  },
  {
   "cell_type": "code",
   "execution_count": 125,
   "id": "b737e3ac",
   "metadata": {},
   "outputs": [],
   "source": [
    "#------------------Customers--------------------------------------------------"
   ]
  },
  {
   "cell_type": "code",
   "execution_count": 126,
   "id": "dd519dbc",
   "metadata": {},
   "outputs": [
    {
     "data": {
      "text/html": [
       "<div>\n",
       "<style scoped>\n",
       "    .dataframe tbody tr th:only-of-type {\n",
       "        vertical-align: middle;\n",
       "    }\n",
       "\n",
       "    .dataframe tbody tr th {\n",
       "        vertical-align: top;\n",
       "    }\n",
       "\n",
       "    .dataframe thead th {\n",
       "        text-align: right;\n",
       "    }\n",
       "</style>\n",
       "<table border=\"1\" class=\"dataframe\">\n",
       "  <thead>\n",
       "    <tr style=\"text-align: right;\">\n",
       "      <th></th>\n",
       "      <th>index</th>\n",
       "      <th>user_id</th>\n",
       "    </tr>\n",
       "  </thead>\n",
       "  <tbody>\n",
       "    <tr>\n",
       "      <th>0</th>\n",
       "      <td>718</td>\n",
       "      <td>28</td>\n",
       "    </tr>\n",
       "    <tr>\n",
       "      <th>1</th>\n",
       "      <td>868</td>\n",
       "      <td>27</td>\n",
       "    </tr>\n",
       "    <tr>\n",
       "      <th>2</th>\n",
       "      <td>791</td>\n",
       "      <td>26</td>\n",
       "    </tr>\n",
       "    <tr>\n",
       "      <th>3</th>\n",
       "      <td>847</td>\n",
       "      <td>26</td>\n",
       "    </tr>\n",
       "    <tr>\n",
       "      <th>4</th>\n",
       "      <td>787</td>\n",
       "      <td>25</td>\n",
       "    </tr>\n",
       "  </tbody>\n",
       "</table>\n",
       "</div>"
      ],
      "text/plain": [
       "   index  user_id\n",
       "0    718       28\n",
       "1    868       27\n",
       "2    791       26\n",
       "3    847       26\n",
       "4    787       25"
      ]
     },
     "execution_count": 126,
     "metadata": {},
     "output_type": "execute_result"
    }
   ],
   "source": [
    "df_behavior=df.groupby(by='user_id')\n",
    "df_behavior=df.user_id.value_counts()\n",
    "df_behavior=pd.DataFrame(df_behavior)\n",
    "df_behavior=df_behavior.reset_index()\n",
    "df_behavior.head()"
   ]
  },
  {
   "cell_type": "code",
   "execution_count": 127,
   "id": "0abd05df",
   "metadata": {},
   "outputs": [],
   "source": [
    "##Repurchase Rate\n",
    "repurchase_user = df_behavior[df_behavior['user_id']>=2].shape[0]"
   ]
  },
  {
   "cell_type": "code",
   "execution_count": 128,
   "id": "32b2f726",
   "metadata": {},
   "outputs": [
    {
     "data": {
      "text/plain": [
       "301"
      ]
     },
     "execution_count": 128,
     "metadata": {},
     "output_type": "execute_result"
    }
   ],
   "source": [
    "repurchase_user#repurchase_rate = 100%"
   ]
  },
  {
   "cell_type": "code",
   "execution_count": 129,
   "id": "89585a28",
   "metadata": {},
   "outputs": [],
   "source": [
    "#Customer Classification (RFM) (Recency，Frequency，Monetary）\n",
    "df1=df.groupby(by='user_id')\n",
    "\n",
    "RF = pd.DataFrame(index=df1.groups.keys(), columns=['Recency', 'Frequency'])\n",
    "RF['Frequency']= df1.user_id.count()\n",
    "RF['Last Purchase Time'] = df1.created_at.max()\n",
    "RF['Recency']= (pd.to_datetime('2017-3-31')-RF['Last Purchase Time']).dt.days #Number of days for each elements"
   ]
  },
  {
   "cell_type": "code",
   "execution_count": 130,
   "id": "e6c752ee",
   "metadata": {},
   "outputs": [
    {
     "name": "stdout",
     "output_type": "stream",
     "text": [
      "<class 'pandas.core.frame.DataFrame'>\n",
      "RangeIndex: 5000 entries, 0 to 4999\n",
      "Data columns (total 9 columns):\n",
      " #   Column          Non-Null Count  Dtype         \n",
      "---  ------          --------------  -----         \n",
      " 0   order_id        5000 non-null   int64         \n",
      " 1   shop_id         5000 non-null   int64         \n",
      " 2   user_id         5000 non-null   int64         \n",
      " 3   order_amount    5000 non-null   int64         \n",
      " 4   total_items     5000 non-null   int64         \n",
      " 5   payment_method  5000 non-null   object        \n",
      " 6   created_at      5000 non-null   datetime64[ns]\n",
      " 7   date            5000 non-null   object        \n",
      " 8   hour            5000 non-null   int64         \n",
      "dtypes: datetime64[ns](1), int64(6), object(2)\n",
      "memory usage: 351.7+ KB\n"
     ]
    }
   ],
   "source": [
    "df.info()"
   ]
  },
  {
   "cell_type": "code",
   "execution_count": 131,
   "id": "79486db1",
   "metadata": {},
   "outputs": [
    {
     "data": {
      "text/html": [
       "<div>\n",
       "<style scoped>\n",
       "    .dataframe tbody tr th:only-of-type {\n",
       "        vertical-align: middle;\n",
       "    }\n",
       "\n",
       "    .dataframe tbody tr th {\n",
       "        vertical-align: top;\n",
       "    }\n",
       "\n",
       "    .dataframe thead th {\n",
       "        text-align: right;\n",
       "    }\n",
       "</style>\n",
       "<table border=\"1\" class=\"dataframe\">\n",
       "  <thead>\n",
       "    <tr style=\"text-align: right;\">\n",
       "      <th></th>\n",
       "      <th>Recency</th>\n",
       "      <th>Frequency</th>\n",
       "      <th>Last Purchase Time</th>\n",
       "    </tr>\n",
       "  </thead>\n",
       "  <tbody>\n",
       "    <tr>\n",
       "      <th>607</th>\n",
       "      <td>2</td>\n",
       "      <td>17</td>\n",
       "      <td>2017-03-28 04:00:00</td>\n",
       "    </tr>\n",
       "    <tr>\n",
       "      <th>700</th>\n",
       "      <td>0</td>\n",
       "      <td>16</td>\n",
       "      <td>2017-03-30 23:55:00</td>\n",
       "    </tr>\n",
       "    <tr>\n",
       "      <th>701</th>\n",
       "      <td>3</td>\n",
       "      <td>13</td>\n",
       "      <td>2017-03-27 13:54:00</td>\n",
       "    </tr>\n",
       "    <tr>\n",
       "      <th>702</th>\n",
       "      <td>1</td>\n",
       "      <td>13</td>\n",
       "      <td>2017-03-29 07:10:00</td>\n",
       "    </tr>\n",
       "    <tr>\n",
       "      <th>703</th>\n",
       "      <td>1</td>\n",
       "      <td>16</td>\n",
       "      <td>2017-03-29 10:25:00</td>\n",
       "    </tr>\n",
       "  </tbody>\n",
       "</table>\n",
       "</div>"
      ],
      "text/plain": [
       "     Recency  Frequency  Last Purchase Time\n",
       "607        2         17 2017-03-28 04:00:00\n",
       "700        0         16 2017-03-30 23:55:00\n",
       "701        3         13 2017-03-27 13:54:00\n",
       "702        1         13 2017-03-29 07:10:00\n",
       "703        1         16 2017-03-29 10:25:00"
      ]
     },
     "execution_count": 131,
     "metadata": {},
     "output_type": "execute_result"
    }
   ],
   "source": [
    "RF.head()"
   ]
  },
  {
   "cell_type": "code",
   "execution_count": 132,
   "id": "83867719",
   "metadata": {},
   "outputs": [
    {
     "data": {
      "text/html": [
       "<div>\n",
       "<style scoped>\n",
       "    .dataframe tbody tr th:only-of-type {\n",
       "        vertical-align: middle;\n",
       "    }\n",
       "\n",
       "    .dataframe tbody tr th {\n",
       "        vertical-align: top;\n",
       "    }\n",
       "\n",
       "    .dataframe thead th {\n",
       "        text-align: right;\n",
       "    }\n",
       "</style>\n",
       "<table border=\"1\" class=\"dataframe\">\n",
       "  <thead>\n",
       "    <tr style=\"text-align: right;\">\n",
       "      <th></th>\n",
       "      <th>Recency</th>\n",
       "      <th>Frequency</th>\n",
       "    </tr>\n",
       "  </thead>\n",
       "  <tbody>\n",
       "    <tr>\n",
       "      <th>count</th>\n",
       "      <td>301.00</td>\n",
       "      <td>301.00</td>\n",
       "    </tr>\n",
       "    <tr>\n",
       "      <th>mean</th>\n",
       "      <td>1.36</td>\n",
       "      <td>16.61</td>\n",
       "    </tr>\n",
       "    <tr>\n",
       "      <th>std</th>\n",
       "      <td>1.81</td>\n",
       "      <td>3.97</td>\n",
       "    </tr>\n",
       "    <tr>\n",
       "      <th>min</th>\n",
       "      <td>0.00</td>\n",
       "      <td>7.00</td>\n",
       "    </tr>\n",
       "    <tr>\n",
       "      <th>25%</th>\n",
       "      <td>0.00</td>\n",
       "      <td>14.00</td>\n",
       "    </tr>\n",
       "    <tr>\n",
       "      <th>50%</th>\n",
       "      <td>1.00</td>\n",
       "      <td>16.00</td>\n",
       "    </tr>\n",
       "    <tr>\n",
       "      <th>75%</th>\n",
       "      <td>2.00</td>\n",
       "      <td>19.00</td>\n",
       "    </tr>\n",
       "    <tr>\n",
       "      <th>max</th>\n",
       "      <td>12.00</td>\n",
       "      <td>28.00</td>\n",
       "    </tr>\n",
       "  </tbody>\n",
       "</table>\n",
       "</div>"
      ],
      "text/plain": [
       "       Recency  Frequency\n",
       "count   301.00     301.00\n",
       "mean      1.36      16.61\n",
       "std       1.81       3.97\n",
       "min       0.00       7.00\n",
       "25%       0.00      14.00\n",
       "50%       1.00      16.00\n",
       "75%       2.00      19.00\n",
       "max      12.00      28.00"
      ]
     },
     "execution_count": 132,
     "metadata": {},
     "output_type": "execute_result"
    }
   ],
   "source": [
    "RF[['Recency','Frequency']].describe().round(2)"
   ]
  },
  {
   "cell_type": "code",
   "execution_count": 133,
   "id": "71e50adc",
   "metadata": {},
   "outputs": [],
   "source": [
    "def R_score(x):\n",
    "    if 0 <= x <= 2:\n",
    "        return 3\n",
    "    elif 3 <= x <= 6:\n",
    "        return 2\n",
    "    elif 7 <= x <= 10:\n",
    "        return 1\n",
    "    else:\n",
    "        return 0"
   ]
  },
  {
   "cell_type": "code",
   "execution_count": 134,
   "id": "62d1ccab",
   "metadata": {},
   "outputs": [],
   "source": [
    "def F_score(x):\n",
    "    if 7 <= x <= 11:\n",
    "        return 0\n",
    "    elif 12 <= x <= 16:\n",
    "        return 1\n",
    "    elif 17<= x <= 21:\n",
    "        return 2\n",
    "    else:\n",
    "        return 3"
   ]
  },
  {
   "cell_type": "code",
   "execution_count": 135,
   "id": "8b1568e9",
   "metadata": {},
   "outputs": [],
   "source": [
    "RF['R_score'] = RF.Recency.map(R_score)\n",
    "RF['F_score'] = RF.Frequency.map(F_score)"
   ]
  },
  {
   "cell_type": "code",
   "execution_count": 136,
   "id": "86d901b0",
   "metadata": {},
   "outputs": [],
   "source": [
    "def customer_classfication(x):\n",
    "    R_score, F_score = x\n",
    "    if 2 <= R_score <= 3  and 2<= F_score <= 3:\n",
    "        return \"Loyal Customer\"\n",
    "    elif 2 <= R_score <= 3 and 0<= F_score <= 1:\n",
    "        return \"Active Customer\"\n",
    "    elif 0 <= R_score <= 1  and 2<= F_score <= 3:\n",
    "        return \"Prospect Customer\"\n",
    "    elif 0 <= R_score <= 1 and 0<= F_score <= 1:\n",
    "        return \"Suspect Customer\"\n",
    "    else:\n",
    "        return None"
   ]
  },
  {
   "cell_type": "code",
   "execution_count": 137,
   "id": "d33acaca",
   "metadata": {},
   "outputs": [],
   "source": [
    "RF['Classification']=RF[['R_score','F_score']].apply(customer_classfication,axis=1)"
   ]
  },
  {
   "cell_type": "code",
   "execution_count": 138,
   "id": "f64fb581",
   "metadata": {},
   "outputs": [
    {
     "data": {
      "text/plain": [
       "Active Customer      154\n",
       "Loyal Customer       140\n",
       "Suspect Customer       6\n",
       "Prospect Customer      1\n",
       "Name: Classification, dtype: int64"
      ]
     },
     "execution_count": 138,
     "metadata": {},
     "output_type": "execute_result"
    }
   ],
   "source": [
    "RF.Classification.value_counts()"
   ]
  },
  {
   "cell_type": "code",
   "execution_count": 139,
   "id": "16b4bb77",
   "metadata": {},
   "outputs": [
    {
     "data": {
      "application/vnd.plotly.v1+json": {
       "config": {
        "plotlyServerURL": "https://plot.ly"
       },
       "data": [
        {
         "hole": 0.5,
         "hoverinfo": "label+percent",
         "labels": [
          "Active Customers",
          "Loyal Customers",
          "Suspect Customers",
          "Prospect Customers"
         ],
         "type": "pie",
         "values": [
          154,
          140,
          6,
          1
         ]
        }
       ],
       "layout": {
        "annotations": [
         {
          "font": {
           "size": 20
          },
          "showarrow": false,
          "text": "Total: 301",
          "x": 0.5,
          "y": 0.5
         }
        ],
        "font": {
         "size": 20
        },
        "template": {
         "data": {
          "bar": [
           {
            "error_x": {
             "color": "#2a3f5f"
            },
            "error_y": {
             "color": "#2a3f5f"
            },
            "marker": {
             "line": {
              "color": "#E5ECF6",
              "width": 0.5
             },
             "pattern": {
              "fillmode": "overlay",
              "size": 10,
              "solidity": 0.2
             }
            },
            "type": "bar"
           }
          ],
          "barpolar": [
           {
            "marker": {
             "line": {
              "color": "#E5ECF6",
              "width": 0.5
             },
             "pattern": {
              "fillmode": "overlay",
              "size": 10,
              "solidity": 0.2
             }
            },
            "type": "barpolar"
           }
          ],
          "carpet": [
           {
            "aaxis": {
             "endlinecolor": "#2a3f5f",
             "gridcolor": "white",
             "linecolor": "white",
             "minorgridcolor": "white",
             "startlinecolor": "#2a3f5f"
            },
            "baxis": {
             "endlinecolor": "#2a3f5f",
             "gridcolor": "white",
             "linecolor": "white",
             "minorgridcolor": "white",
             "startlinecolor": "#2a3f5f"
            },
            "type": "carpet"
           }
          ],
          "choropleth": [
           {
            "colorbar": {
             "outlinewidth": 0,
             "ticks": ""
            },
            "type": "choropleth"
           }
          ],
          "contour": [
           {
            "colorbar": {
             "outlinewidth": 0,
             "ticks": ""
            },
            "colorscale": [
             [
              0,
              "#0d0887"
             ],
             [
              0.1111111111111111,
              "#46039f"
             ],
             [
              0.2222222222222222,
              "#7201a8"
             ],
             [
              0.3333333333333333,
              "#9c179e"
             ],
             [
              0.4444444444444444,
              "#bd3786"
             ],
             [
              0.5555555555555556,
              "#d8576b"
             ],
             [
              0.6666666666666666,
              "#ed7953"
             ],
             [
              0.7777777777777778,
              "#fb9f3a"
             ],
             [
              0.8888888888888888,
              "#fdca26"
             ],
             [
              1,
              "#f0f921"
             ]
            ],
            "type": "contour"
           }
          ],
          "contourcarpet": [
           {
            "colorbar": {
             "outlinewidth": 0,
             "ticks": ""
            },
            "type": "contourcarpet"
           }
          ],
          "heatmap": [
           {
            "colorbar": {
             "outlinewidth": 0,
             "ticks": ""
            },
            "colorscale": [
             [
              0,
              "#0d0887"
             ],
             [
              0.1111111111111111,
              "#46039f"
             ],
             [
              0.2222222222222222,
              "#7201a8"
             ],
             [
              0.3333333333333333,
              "#9c179e"
             ],
             [
              0.4444444444444444,
              "#bd3786"
             ],
             [
              0.5555555555555556,
              "#d8576b"
             ],
             [
              0.6666666666666666,
              "#ed7953"
             ],
             [
              0.7777777777777778,
              "#fb9f3a"
             ],
             [
              0.8888888888888888,
              "#fdca26"
             ],
             [
              1,
              "#f0f921"
             ]
            ],
            "type": "heatmap"
           }
          ],
          "heatmapgl": [
           {
            "colorbar": {
             "outlinewidth": 0,
             "ticks": ""
            },
            "colorscale": [
             [
              0,
              "#0d0887"
             ],
             [
              0.1111111111111111,
              "#46039f"
             ],
             [
              0.2222222222222222,
              "#7201a8"
             ],
             [
              0.3333333333333333,
              "#9c179e"
             ],
             [
              0.4444444444444444,
              "#bd3786"
             ],
             [
              0.5555555555555556,
              "#d8576b"
             ],
             [
              0.6666666666666666,
              "#ed7953"
             ],
             [
              0.7777777777777778,
              "#fb9f3a"
             ],
             [
              0.8888888888888888,
              "#fdca26"
             ],
             [
              1,
              "#f0f921"
             ]
            ],
            "type": "heatmapgl"
           }
          ],
          "histogram": [
           {
            "marker": {
             "pattern": {
              "fillmode": "overlay",
              "size": 10,
              "solidity": 0.2
             }
            },
            "type": "histogram"
           }
          ],
          "histogram2d": [
           {
            "colorbar": {
             "outlinewidth": 0,
             "ticks": ""
            },
            "colorscale": [
             [
              0,
              "#0d0887"
             ],
             [
              0.1111111111111111,
              "#46039f"
             ],
             [
              0.2222222222222222,
              "#7201a8"
             ],
             [
              0.3333333333333333,
              "#9c179e"
             ],
             [
              0.4444444444444444,
              "#bd3786"
             ],
             [
              0.5555555555555556,
              "#d8576b"
             ],
             [
              0.6666666666666666,
              "#ed7953"
             ],
             [
              0.7777777777777778,
              "#fb9f3a"
             ],
             [
              0.8888888888888888,
              "#fdca26"
             ],
             [
              1,
              "#f0f921"
             ]
            ],
            "type": "histogram2d"
           }
          ],
          "histogram2dcontour": [
           {
            "colorbar": {
             "outlinewidth": 0,
             "ticks": ""
            },
            "colorscale": [
             [
              0,
              "#0d0887"
             ],
             [
              0.1111111111111111,
              "#46039f"
             ],
             [
              0.2222222222222222,
              "#7201a8"
             ],
             [
              0.3333333333333333,
              "#9c179e"
             ],
             [
              0.4444444444444444,
              "#bd3786"
             ],
             [
              0.5555555555555556,
              "#d8576b"
             ],
             [
              0.6666666666666666,
              "#ed7953"
             ],
             [
              0.7777777777777778,
              "#fb9f3a"
             ],
             [
              0.8888888888888888,
              "#fdca26"
             ],
             [
              1,
              "#f0f921"
             ]
            ],
            "type": "histogram2dcontour"
           }
          ],
          "mesh3d": [
           {
            "colorbar": {
             "outlinewidth": 0,
             "ticks": ""
            },
            "type": "mesh3d"
           }
          ],
          "parcoords": [
           {
            "line": {
             "colorbar": {
              "outlinewidth": 0,
              "ticks": ""
             }
            },
            "type": "parcoords"
           }
          ],
          "pie": [
           {
            "automargin": true,
            "type": "pie"
           }
          ],
          "scatter": [
           {
            "fillpattern": {
             "fillmode": "overlay",
             "size": 10,
             "solidity": 0.2
            },
            "type": "scatter"
           }
          ],
          "scatter3d": [
           {
            "line": {
             "colorbar": {
              "outlinewidth": 0,
              "ticks": ""
             }
            },
            "marker": {
             "colorbar": {
              "outlinewidth": 0,
              "ticks": ""
             }
            },
            "type": "scatter3d"
           }
          ],
          "scattercarpet": [
           {
            "marker": {
             "colorbar": {
              "outlinewidth": 0,
              "ticks": ""
             }
            },
            "type": "scattercarpet"
           }
          ],
          "scattergeo": [
           {
            "marker": {
             "colorbar": {
              "outlinewidth": 0,
              "ticks": ""
             }
            },
            "type": "scattergeo"
           }
          ],
          "scattergl": [
           {
            "marker": {
             "colorbar": {
              "outlinewidth": 0,
              "ticks": ""
             }
            },
            "type": "scattergl"
           }
          ],
          "scattermapbox": [
           {
            "marker": {
             "colorbar": {
              "outlinewidth": 0,
              "ticks": ""
             }
            },
            "type": "scattermapbox"
           }
          ],
          "scatterpolar": [
           {
            "marker": {
             "colorbar": {
              "outlinewidth": 0,
              "ticks": ""
             }
            },
            "type": "scatterpolar"
           }
          ],
          "scatterpolargl": [
           {
            "marker": {
             "colorbar": {
              "outlinewidth": 0,
              "ticks": ""
             }
            },
            "type": "scatterpolargl"
           }
          ],
          "scatterternary": [
           {
            "marker": {
             "colorbar": {
              "outlinewidth": 0,
              "ticks": ""
             }
            },
            "type": "scatterternary"
           }
          ],
          "surface": [
           {
            "colorbar": {
             "outlinewidth": 0,
             "ticks": ""
            },
            "colorscale": [
             [
              0,
              "#0d0887"
             ],
             [
              0.1111111111111111,
              "#46039f"
             ],
             [
              0.2222222222222222,
              "#7201a8"
             ],
             [
              0.3333333333333333,
              "#9c179e"
             ],
             [
              0.4444444444444444,
              "#bd3786"
             ],
             [
              0.5555555555555556,
              "#d8576b"
             ],
             [
              0.6666666666666666,
              "#ed7953"
             ],
             [
              0.7777777777777778,
              "#fb9f3a"
             ],
             [
              0.8888888888888888,
              "#fdca26"
             ],
             [
              1,
              "#f0f921"
             ]
            ],
            "type": "surface"
           }
          ],
          "table": [
           {
            "cells": {
             "fill": {
              "color": "#EBF0F8"
             },
             "line": {
              "color": "white"
             }
            },
            "header": {
             "fill": {
              "color": "#C8D4E3"
             },
             "line": {
              "color": "white"
             }
            },
            "type": "table"
           }
          ]
         },
         "layout": {
          "annotationdefaults": {
           "arrowcolor": "#2a3f5f",
           "arrowhead": 0,
           "arrowwidth": 1
          },
          "autotypenumbers": "strict",
          "coloraxis": {
           "colorbar": {
            "outlinewidth": 0,
            "ticks": ""
           }
          },
          "colorscale": {
           "diverging": [
            [
             0,
             "#8e0152"
            ],
            [
             0.1,
             "#c51b7d"
            ],
            [
             0.2,
             "#de77ae"
            ],
            [
             0.3,
             "#f1b6da"
            ],
            [
             0.4,
             "#fde0ef"
            ],
            [
             0.5,
             "#f7f7f7"
            ],
            [
             0.6,
             "#e6f5d0"
            ],
            [
             0.7,
             "#b8e186"
            ],
            [
             0.8,
             "#7fbc41"
            ],
            [
             0.9,
             "#4d9221"
            ],
            [
             1,
             "#276419"
            ]
           ],
           "sequential": [
            [
             0,
             "#0d0887"
            ],
            [
             0.1111111111111111,
             "#46039f"
            ],
            [
             0.2222222222222222,
             "#7201a8"
            ],
            [
             0.3333333333333333,
             "#9c179e"
            ],
            [
             0.4444444444444444,
             "#bd3786"
            ],
            [
             0.5555555555555556,
             "#d8576b"
            ],
            [
             0.6666666666666666,
             "#ed7953"
            ],
            [
             0.7777777777777778,
             "#fb9f3a"
            ],
            [
             0.8888888888888888,
             "#fdca26"
            ],
            [
             1,
             "#f0f921"
            ]
           ],
           "sequentialminus": [
            [
             0,
             "#0d0887"
            ],
            [
             0.1111111111111111,
             "#46039f"
            ],
            [
             0.2222222222222222,
             "#7201a8"
            ],
            [
             0.3333333333333333,
             "#9c179e"
            ],
            [
             0.4444444444444444,
             "#bd3786"
            ],
            [
             0.5555555555555556,
             "#d8576b"
            ],
            [
             0.6666666666666666,
             "#ed7953"
            ],
            [
             0.7777777777777778,
             "#fb9f3a"
            ],
            [
             0.8888888888888888,
             "#fdca26"
            ],
            [
             1,
             "#f0f921"
            ]
           ]
          },
          "colorway": [
           "#636efa",
           "#EF553B",
           "#00cc96",
           "#ab63fa",
           "#FFA15A",
           "#19d3f3",
           "#FF6692",
           "#B6E880",
           "#FF97FF",
           "#FECB52"
          ],
          "font": {
           "color": "#2a3f5f"
          },
          "geo": {
           "bgcolor": "white",
           "lakecolor": "white",
           "landcolor": "#E5ECF6",
           "showlakes": true,
           "showland": true,
           "subunitcolor": "white"
          },
          "hoverlabel": {
           "align": "left"
          },
          "hovermode": "closest",
          "mapbox": {
           "style": "light"
          },
          "paper_bgcolor": "white",
          "plot_bgcolor": "#E5ECF6",
          "polar": {
           "angularaxis": {
            "gridcolor": "white",
            "linecolor": "white",
            "ticks": ""
           },
           "bgcolor": "#E5ECF6",
           "radialaxis": {
            "gridcolor": "white",
            "linecolor": "white",
            "ticks": ""
           }
          },
          "scene": {
           "xaxis": {
            "backgroundcolor": "#E5ECF6",
            "gridcolor": "white",
            "gridwidth": 2,
            "linecolor": "white",
            "showbackground": true,
            "ticks": "",
            "zerolinecolor": "white"
           },
           "yaxis": {
            "backgroundcolor": "#E5ECF6",
            "gridcolor": "white",
            "gridwidth": 2,
            "linecolor": "white",
            "showbackground": true,
            "ticks": "",
            "zerolinecolor": "white"
           },
           "zaxis": {
            "backgroundcolor": "#E5ECF6",
            "gridcolor": "white",
            "gridwidth": 2,
            "linecolor": "white",
            "showbackground": true,
            "ticks": "",
            "zerolinecolor": "white"
           }
          },
          "shapedefaults": {
           "line": {
            "color": "#2a3f5f"
           }
          },
          "ternary": {
           "aaxis": {
            "gridcolor": "white",
            "linecolor": "white",
            "ticks": ""
           },
           "baxis": {
            "gridcolor": "white",
            "linecolor": "white",
            "ticks": ""
           },
           "bgcolor": "#E5ECF6",
           "caxis": {
            "gridcolor": "white",
            "linecolor": "white",
            "ticks": ""
           }
          },
          "title": {
           "x": 0.05
          },
          "xaxis": {
           "automargin": true,
           "gridcolor": "white",
           "linecolor": "white",
           "ticks": "",
           "title": {
            "standoff": 15
           },
           "zerolinecolor": "white",
           "zerolinewidth": 2
          },
          "yaxis": {
           "automargin": true,
           "gridcolor": "white",
           "linecolor": "white",
           "ticks": "",
           "title": {
            "standoff": 15
           },
           "zerolinecolor": "white",
           "zerolinewidth": 2
          }
         }
        },
        "title": {
         "text": "Customer Classification"
        }
       }
      },
      "text/html": [
       "<div>                            <div id=\"9f6b74e2-554f-42b3-9ac4-1fb2d275ca6b\" class=\"plotly-graph-div\" style=\"height:525px; width:100%;\"></div>            <script type=\"text/javascript\">                require([\"plotly\"], function(Plotly) {                    window.PLOTLYENV=window.PLOTLYENV || {};                                    if (document.getElementById(\"9f6b74e2-554f-42b3-9ac4-1fb2d275ca6b\")) {                    Plotly.newPlot(                        \"9f6b74e2-554f-42b3-9ac4-1fb2d275ca6b\",                        [{\"labels\":[\"Active Customers\",\"Loyal Customers\",\"Suspect Customers\",\"Prospect Customers\"],\"values\":[154,140,6,1],\"type\":\"pie\",\"hole\":0.5,\"hoverinfo\":\"label+percent\"}],                        {\"template\":{\"data\":{\"histogram2dcontour\":[{\"type\":\"histogram2dcontour\",\"colorbar\":{\"outlinewidth\":0,\"ticks\":\"\"},\"colorscale\":[[0.0,\"#0d0887\"],[0.1111111111111111,\"#46039f\"],[0.2222222222222222,\"#7201a8\"],[0.3333333333333333,\"#9c179e\"],[0.4444444444444444,\"#bd3786\"],[0.5555555555555556,\"#d8576b\"],[0.6666666666666666,\"#ed7953\"],[0.7777777777777778,\"#fb9f3a\"],[0.8888888888888888,\"#fdca26\"],[1.0,\"#f0f921\"]]}],\"choropleth\":[{\"type\":\"choropleth\",\"colorbar\":{\"outlinewidth\":0,\"ticks\":\"\"}}],\"histogram2d\":[{\"type\":\"histogram2d\",\"colorbar\":{\"outlinewidth\":0,\"ticks\":\"\"},\"colorscale\":[[0.0,\"#0d0887\"],[0.1111111111111111,\"#46039f\"],[0.2222222222222222,\"#7201a8\"],[0.3333333333333333,\"#9c179e\"],[0.4444444444444444,\"#bd3786\"],[0.5555555555555556,\"#d8576b\"],[0.6666666666666666,\"#ed7953\"],[0.7777777777777778,\"#fb9f3a\"],[0.8888888888888888,\"#fdca26\"],[1.0,\"#f0f921\"]]}],\"heatmap\":[{\"type\":\"heatmap\",\"colorbar\":{\"outlinewidth\":0,\"ticks\":\"\"},\"colorscale\":[[0.0,\"#0d0887\"],[0.1111111111111111,\"#46039f\"],[0.2222222222222222,\"#7201a8\"],[0.3333333333333333,\"#9c179e\"],[0.4444444444444444,\"#bd3786\"],[0.5555555555555556,\"#d8576b\"],[0.6666666666666666,\"#ed7953\"],[0.7777777777777778,\"#fb9f3a\"],[0.8888888888888888,\"#fdca26\"],[1.0,\"#f0f921\"]]}],\"heatmapgl\":[{\"type\":\"heatmapgl\",\"colorbar\":{\"outlinewidth\":0,\"ticks\":\"\"},\"colorscale\":[[0.0,\"#0d0887\"],[0.1111111111111111,\"#46039f\"],[0.2222222222222222,\"#7201a8\"],[0.3333333333333333,\"#9c179e\"],[0.4444444444444444,\"#bd3786\"],[0.5555555555555556,\"#d8576b\"],[0.6666666666666666,\"#ed7953\"],[0.7777777777777778,\"#fb9f3a\"],[0.8888888888888888,\"#fdca26\"],[1.0,\"#f0f921\"]]}],\"contourcarpet\":[{\"type\":\"contourcarpet\",\"colorbar\":{\"outlinewidth\":0,\"ticks\":\"\"}}],\"contour\":[{\"type\":\"contour\",\"colorbar\":{\"outlinewidth\":0,\"ticks\":\"\"},\"colorscale\":[[0.0,\"#0d0887\"],[0.1111111111111111,\"#46039f\"],[0.2222222222222222,\"#7201a8\"],[0.3333333333333333,\"#9c179e\"],[0.4444444444444444,\"#bd3786\"],[0.5555555555555556,\"#d8576b\"],[0.6666666666666666,\"#ed7953\"],[0.7777777777777778,\"#fb9f3a\"],[0.8888888888888888,\"#fdca26\"],[1.0,\"#f0f921\"]]}],\"surface\":[{\"type\":\"surface\",\"colorbar\":{\"outlinewidth\":0,\"ticks\":\"\"},\"colorscale\":[[0.0,\"#0d0887\"],[0.1111111111111111,\"#46039f\"],[0.2222222222222222,\"#7201a8\"],[0.3333333333333333,\"#9c179e\"],[0.4444444444444444,\"#bd3786\"],[0.5555555555555556,\"#d8576b\"],[0.6666666666666666,\"#ed7953\"],[0.7777777777777778,\"#fb9f3a\"],[0.8888888888888888,\"#fdca26\"],[1.0,\"#f0f921\"]]}],\"mesh3d\":[{\"type\":\"mesh3d\",\"colorbar\":{\"outlinewidth\":0,\"ticks\":\"\"}}],\"scatter\":[{\"fillpattern\":{\"fillmode\":\"overlay\",\"size\":10,\"solidity\":0.2},\"type\":\"scatter\"}],\"parcoords\":[{\"type\":\"parcoords\",\"line\":{\"colorbar\":{\"outlinewidth\":0,\"ticks\":\"\"}}}],\"scatterpolargl\":[{\"type\":\"scatterpolargl\",\"marker\":{\"colorbar\":{\"outlinewidth\":0,\"ticks\":\"\"}}}],\"bar\":[{\"error_x\":{\"color\":\"#2a3f5f\"},\"error_y\":{\"color\":\"#2a3f5f\"},\"marker\":{\"line\":{\"color\":\"#E5ECF6\",\"width\":0.5},\"pattern\":{\"fillmode\":\"overlay\",\"size\":10,\"solidity\":0.2}},\"type\":\"bar\"}],\"scattergeo\":[{\"type\":\"scattergeo\",\"marker\":{\"colorbar\":{\"outlinewidth\":0,\"ticks\":\"\"}}}],\"scatterpolar\":[{\"type\":\"scatterpolar\",\"marker\":{\"colorbar\":{\"outlinewidth\":0,\"ticks\":\"\"}}}],\"histogram\":[{\"marker\":{\"pattern\":{\"fillmode\":\"overlay\",\"size\":10,\"solidity\":0.2}},\"type\":\"histogram\"}],\"scattergl\":[{\"type\":\"scattergl\",\"marker\":{\"colorbar\":{\"outlinewidth\":0,\"ticks\":\"\"}}}],\"scatter3d\":[{\"type\":\"scatter3d\",\"line\":{\"colorbar\":{\"outlinewidth\":0,\"ticks\":\"\"}},\"marker\":{\"colorbar\":{\"outlinewidth\":0,\"ticks\":\"\"}}}],\"scattermapbox\":[{\"type\":\"scattermapbox\",\"marker\":{\"colorbar\":{\"outlinewidth\":0,\"ticks\":\"\"}}}],\"scatterternary\":[{\"type\":\"scatterternary\",\"marker\":{\"colorbar\":{\"outlinewidth\":0,\"ticks\":\"\"}}}],\"scattercarpet\":[{\"type\":\"scattercarpet\",\"marker\":{\"colorbar\":{\"outlinewidth\":0,\"ticks\":\"\"}}}],\"carpet\":[{\"aaxis\":{\"endlinecolor\":\"#2a3f5f\",\"gridcolor\":\"white\",\"linecolor\":\"white\",\"minorgridcolor\":\"white\",\"startlinecolor\":\"#2a3f5f\"},\"baxis\":{\"endlinecolor\":\"#2a3f5f\",\"gridcolor\":\"white\",\"linecolor\":\"white\",\"minorgridcolor\":\"white\",\"startlinecolor\":\"#2a3f5f\"},\"type\":\"carpet\"}],\"table\":[{\"cells\":{\"fill\":{\"color\":\"#EBF0F8\"},\"line\":{\"color\":\"white\"}},\"header\":{\"fill\":{\"color\":\"#C8D4E3\"},\"line\":{\"color\":\"white\"}},\"type\":\"table\"}],\"barpolar\":[{\"marker\":{\"line\":{\"color\":\"#E5ECF6\",\"width\":0.5},\"pattern\":{\"fillmode\":\"overlay\",\"size\":10,\"solidity\":0.2}},\"type\":\"barpolar\"}],\"pie\":[{\"automargin\":true,\"type\":\"pie\"}]},\"layout\":{\"autotypenumbers\":\"strict\",\"colorway\":[\"#636efa\",\"#EF553B\",\"#00cc96\",\"#ab63fa\",\"#FFA15A\",\"#19d3f3\",\"#FF6692\",\"#B6E880\",\"#FF97FF\",\"#FECB52\"],\"font\":{\"color\":\"#2a3f5f\"},\"hovermode\":\"closest\",\"hoverlabel\":{\"align\":\"left\"},\"paper_bgcolor\":\"white\",\"plot_bgcolor\":\"#E5ECF6\",\"polar\":{\"bgcolor\":\"#E5ECF6\",\"angularaxis\":{\"gridcolor\":\"white\",\"linecolor\":\"white\",\"ticks\":\"\"},\"radialaxis\":{\"gridcolor\":\"white\",\"linecolor\":\"white\",\"ticks\":\"\"}},\"ternary\":{\"bgcolor\":\"#E5ECF6\",\"aaxis\":{\"gridcolor\":\"white\",\"linecolor\":\"white\",\"ticks\":\"\"},\"baxis\":{\"gridcolor\":\"white\",\"linecolor\":\"white\",\"ticks\":\"\"},\"caxis\":{\"gridcolor\":\"white\",\"linecolor\":\"white\",\"ticks\":\"\"}},\"coloraxis\":{\"colorbar\":{\"outlinewidth\":0,\"ticks\":\"\"}},\"colorscale\":{\"sequential\":[[0.0,\"#0d0887\"],[0.1111111111111111,\"#46039f\"],[0.2222222222222222,\"#7201a8\"],[0.3333333333333333,\"#9c179e\"],[0.4444444444444444,\"#bd3786\"],[0.5555555555555556,\"#d8576b\"],[0.6666666666666666,\"#ed7953\"],[0.7777777777777778,\"#fb9f3a\"],[0.8888888888888888,\"#fdca26\"],[1.0,\"#f0f921\"]],\"sequentialminus\":[[0.0,\"#0d0887\"],[0.1111111111111111,\"#46039f\"],[0.2222222222222222,\"#7201a8\"],[0.3333333333333333,\"#9c179e\"],[0.4444444444444444,\"#bd3786\"],[0.5555555555555556,\"#d8576b\"],[0.6666666666666666,\"#ed7953\"],[0.7777777777777778,\"#fb9f3a\"],[0.8888888888888888,\"#fdca26\"],[1.0,\"#f0f921\"]],\"diverging\":[[0,\"#8e0152\"],[0.1,\"#c51b7d\"],[0.2,\"#de77ae\"],[0.3,\"#f1b6da\"],[0.4,\"#fde0ef\"],[0.5,\"#f7f7f7\"],[0.6,\"#e6f5d0\"],[0.7,\"#b8e186\"],[0.8,\"#7fbc41\"],[0.9,\"#4d9221\"],[1,\"#276419\"]]},\"xaxis\":{\"gridcolor\":\"white\",\"linecolor\":\"white\",\"ticks\":\"\",\"title\":{\"standoff\":15},\"zerolinecolor\":\"white\",\"automargin\":true,\"zerolinewidth\":2},\"yaxis\":{\"gridcolor\":\"white\",\"linecolor\":\"white\",\"ticks\":\"\",\"title\":{\"standoff\":15},\"zerolinecolor\":\"white\",\"automargin\":true,\"zerolinewidth\":2},\"scene\":{\"xaxis\":{\"backgroundcolor\":\"#E5ECF6\",\"gridcolor\":\"white\",\"linecolor\":\"white\",\"showbackground\":true,\"ticks\":\"\",\"zerolinecolor\":\"white\",\"gridwidth\":2},\"yaxis\":{\"backgroundcolor\":\"#E5ECF6\",\"gridcolor\":\"white\",\"linecolor\":\"white\",\"showbackground\":true,\"ticks\":\"\",\"zerolinecolor\":\"white\",\"gridwidth\":2},\"zaxis\":{\"backgroundcolor\":\"#E5ECF6\",\"gridcolor\":\"white\",\"linecolor\":\"white\",\"showbackground\":true,\"ticks\":\"\",\"zerolinecolor\":\"white\",\"gridwidth\":2}},\"shapedefaults\":{\"line\":{\"color\":\"#2a3f5f\"}},\"annotationdefaults\":{\"arrowcolor\":\"#2a3f5f\",\"arrowhead\":0,\"arrowwidth\":1},\"geo\":{\"bgcolor\":\"white\",\"landcolor\":\"#E5ECF6\",\"subunitcolor\":\"white\",\"showland\":true,\"showlakes\":true,\"lakecolor\":\"white\"},\"title\":{\"x\":0.05},\"mapbox\":{\"style\":\"light\"}}},\"title\":{\"text\":\"Customer Classification\"},\"font\":{\"size\":20},\"annotations\":[{\"showarrow\":false,\"text\":\"Total: 301\",\"x\":0.5,\"y\":0.5,\"font\":{\"size\":20}}]},                        {\"responsive\": true}                    ).then(function(){\n",
       "                            \n",
       "var gd = document.getElementById('9f6b74e2-554f-42b3-9ac4-1fb2d275ca6b');\n",
       "var x = new MutationObserver(function (mutations, observer) {{\n",
       "        var display = window.getComputedStyle(gd).display;\n",
       "        if (!display || display === 'none') {{\n",
       "            console.log([gd, 'removed!']);\n",
       "            Plotly.purge(gd);\n",
       "            observer.disconnect();\n",
       "        }}\n",
       "}});\n",
       "\n",
       "// Listen for the removal of the full notebook cells\n",
       "var notebookContainer = gd.closest('#notebook-container');\n",
       "if (notebookContainer) {{\n",
       "    x.observe(notebookContainer, {childList: true});\n",
       "}}\n",
       "\n",
       "// Listen for the clearing of the current output cell\n",
       "var outputEl = gd.closest('.output');\n",
       "if (outputEl) {{\n",
       "    x.observe(outputEl, {childList: true});\n",
       "}}\n",
       "\n",
       "                        })                };                });            </script>        </div>"
      ]
     },
     "metadata": {},
     "output_type": "display_data"
    }
   ],
   "source": [
    "import plotly.graph_objects as go\n",
    "\n",
    "labels = [\"Active Customers\",\"Loyal Customers\" ,\"Suspect Customers\",\"Prospect Customers\"]\n",
    "values = [154,140,6,1]\n",
    "\n",
    "# Create subplots: use 'domain' type for Pie subplot\n",
    "fig = go.Figure(data=[go.Pie(labels=labels, values=values)])\n",
    "\n",
    "# Use `hole` to create a donut-like pie chart\n",
    "fig.update_traces(hole=.5, hoverinfo=\"label+percent\")\n",
    "\n",
    "fig.update_layout(\n",
    "    title_text=\"Customer Classification\",\n",
    "    # Add annotations in the center of the donut pies.\n",
    "    annotations=[dict(text='Total: 301', x=0.5, y=0.5, font_size=20, showarrow=False)],\n",
    "    font=dict(size=20))\n",
    "    \n",
    "fig.show()"
   ]
  },
  {
   "cell_type": "code",
   "execution_count": null,
   "id": "9ed25fb9",
   "metadata": {},
   "outputs": [],
   "source": []
  },
  {
   "cell_type": "code",
   "execution_count": 140,
   "id": "a3f85fe9",
   "metadata": {},
   "outputs": [],
   "source": [
    "##Customer Lifetime Value"
   ]
  },
  {
   "cell_type": "code",
   "execution_count": 141,
   "id": "89e116eb",
   "metadata": {},
   "outputs": [],
   "source": [
    "df['unit_price']=df['order_amount']/df['total_items']"
   ]
  },
  {
   "cell_type": "code",
   "execution_count": 142,
   "id": "132f2515",
   "metadata": {},
   "outputs": [
    {
     "name": "stderr",
     "output_type": "stream",
     "text": [
      "/tmp/ipykernel_18357/204520890.py:2: SettingWithCopyWarning:\n",
      "\n",
      "\n",
      "A value is trying to be set on a copy of a slice from a DataFrame.\n",
      "Try using .loc[row_indexer,col_indexer] = value instead\n",
      "\n",
      "See the caveats in the documentation: https://pandas.pydata.org/pandas-docs/stable/user_guide/indexing.html#returning-a-view-versus-a-copy\n",
      "\n"
     ]
    }
   ],
   "source": [
    "CLV_df=df[['user_id','created_at','date','hour','order_amount','unit_price','total_items']]\n",
    "CLV_df['count']=1"
   ]
  },
  {
   "cell_type": "code",
   "execution_count": 143,
   "id": "94f6c270",
   "metadata": {},
   "outputs": [],
   "source": [
    "CLV_df_group=CLV_df.groupby('user_id').agg({'created_at': lambda date: (date.max() - date.min()).days,\n",
    "                                            'count': lambda  quant: quant.sum(),\n",
    "                                            'total_items': lambda quant: quant.sum(),\n",
    "                                            'order_amount': lambda price: price.sum()})"
   ]
  },
  {
   "cell_type": "code",
   "execution_count": 144,
   "id": "000d7792",
   "metadata": {},
   "outputs": [],
   "source": [
    "CLV_df_group=CLV_df_group.rename(columns={'created_at': 'Duration', 'count': 'Frequency','order_amount':'Total Order Amount','total_items':'Total Quantity'})"
   ]
  },
  {
   "cell_type": "code",
   "execution_count": 145,
   "id": "21e8a312",
   "metadata": {},
   "outputs": [],
   "source": [
    "#AOV\n",
    "CLV_df_group['AOV']=(CLV_df_group['Total Order Amount']/CLV_df_group['Frequency']).round(3)"
   ]
  },
  {
   "cell_type": "code",
   "execution_count": 146,
   "id": "2ddd7687",
   "metadata": {},
   "outputs": [
    {
     "data": {
      "text/plain": [
       "16.611295681063122"
      ]
     },
     "execution_count": 146,
     "metadata": {},
     "output_type": "execute_result"
    }
   ],
   "source": [
    "#Purchase_frequency\n",
    "purchase_frequency=sum(CLV_df_group['Frequency'])/CLV_df_group.shape[0]\n",
    "purchase_frequency"
   ]
  },
  {
   "cell_type": "code",
   "execution_count": 147,
   "id": "32931637",
   "metadata": {},
   "outputs": [
    {
     "data": {
      "text/plain": [
       "0.9568106312292359"
      ]
     },
     "execution_count": 147,
     "metadata": {},
     "output_type": "execute_result"
    }
   ],
   "source": [
    "#Repeat Rate >10\n",
    "repeat_rate=CLV_df_group[CLV_df_group.Frequency > 10].shape[0]/CLV_df_group.shape[0]\n",
    "repeat_rate"
   ]
  },
  {
   "cell_type": "code",
   "execution_count": 148,
   "id": "52eb2bcc",
   "metadata": {},
   "outputs": [],
   "source": [
    "#Churn Rate\n",
    "churn_rate=1-repeat_rate"
   ]
  },
  {
   "cell_type": "code",
   "execution_count": 149,
   "id": "816ff847",
   "metadata": {},
   "outputs": [
    {
     "data": {
      "text/plain": [
       "(16.611295681063122, 0.9568106312292359, 0.04318936877076407)"
      ]
     },
     "execution_count": 149,
     "metadata": {},
     "output_type": "execute_result"
    }
   ],
   "source": [
    "purchase_frequency,repeat_rate,churn_rate"
   ]
  },
  {
   "cell_type": "code",
   "execution_count": 150,
   "id": "c088c026",
   "metadata": {},
   "outputs": [],
   "source": [
    "# Profit Margin\n",
    "CLV_df_group['Profit_Margin']=CLV_df_group['Total Order Amount']*0.05"
   ]
  },
  {
   "cell_type": "code",
   "execution_count": 151,
   "id": "ebc2572c",
   "metadata": {},
   "outputs": [],
   "source": [
    "# Customer Value\n",
    "CLV_df_group['Customer_Value']=(CLV_df_group['AOV']*purchase_frequency)/churn_rate"
   ]
  },
  {
   "cell_type": "code",
   "execution_count": 152,
   "id": "20ce3f98",
   "metadata": {},
   "outputs": [],
   "source": [
    "#Customer Lifetime Value\n",
    "CLV_df_group['Customer Lifetime Value']=(CLV_df_group['Customer_Value']*CLV_df_group['Profit_Margin']).round(3)"
   ]
  },
  {
   "cell_type": "code",
   "execution_count": 153,
   "id": "2a109af3",
   "metadata": {},
   "outputs": [
    {
     "data": {
      "text/html": [
       "<div>\n",
       "<style scoped>\n",
       "    .dataframe tbody tr th:only-of-type {\n",
       "        vertical-align: middle;\n",
       "    }\n",
       "\n",
       "    .dataframe tbody tr th {\n",
       "        vertical-align: top;\n",
       "    }\n",
       "\n",
       "    .dataframe thead th {\n",
       "        text-align: right;\n",
       "    }\n",
       "</style>\n",
       "<table border=\"1\" class=\"dataframe\">\n",
       "  <thead>\n",
       "    <tr style=\"text-align: right;\">\n",
       "      <th></th>\n",
       "      <th>Duration</th>\n",
       "      <th>Frequency</th>\n",
       "      <th>Total Quantity</th>\n",
       "      <th>Total Order Amount</th>\n",
       "      <th>AOV</th>\n",
       "      <th>Profit_Margin</th>\n",
       "      <th>Customer_Value</th>\n",
       "      <th>Customer Lifetime Value</th>\n",
       "    </tr>\n",
       "    <tr>\n",
       "      <th>user_id</th>\n",
       "      <th></th>\n",
       "      <th></th>\n",
       "      <th></th>\n",
       "      <th></th>\n",
       "      <th></th>\n",
       "      <th></th>\n",
       "      <th></th>\n",
       "      <th></th>\n",
       "    </tr>\n",
       "  </thead>\n",
       "  <tbody>\n",
       "    <tr>\n",
       "      <th>970</th>\n",
       "      <td>26</td>\n",
       "      <td>20</td>\n",
       "      <td>42</td>\n",
       "      <td>31449</td>\n",
       "      <td>1572.450</td>\n",
       "      <td>1572.45</td>\n",
       "      <td>6.047885e+05</td>\n",
       "      <td>9.509996e+08</td>\n",
       "    </tr>\n",
       "    <tr>\n",
       "      <th>971</th>\n",
       "      <td>25</td>\n",
       "      <td>15</td>\n",
       "      <td>30</td>\n",
       "      <td>4560</td>\n",
       "      <td>304.000</td>\n",
       "      <td>228.00</td>\n",
       "      <td>1.169231e+05</td>\n",
       "      <td>2.665846e+07</td>\n",
       "    </tr>\n",
       "    <tr>\n",
       "      <th>972</th>\n",
       "      <td>24</td>\n",
       "      <td>17</td>\n",
       "      <td>36</td>\n",
       "      <td>5171</td>\n",
       "      <td>304.176</td>\n",
       "      <td>258.55</td>\n",
       "      <td>1.169908e+05</td>\n",
       "      <td>3.024796e+07</td>\n",
       "    </tr>\n",
       "    <tr>\n",
       "      <th>973</th>\n",
       "      <td>23</td>\n",
       "      <td>11</td>\n",
       "      <td>24</td>\n",
       "      <td>3062</td>\n",
       "      <td>278.364</td>\n",
       "      <td>153.10</td>\n",
       "      <td>1.070631e+05</td>\n",
       "      <td>1.639136e+07</td>\n",
       "    </tr>\n",
       "    <tr>\n",
       "      <th>974</th>\n",
       "      <td>27</td>\n",
       "      <td>18</td>\n",
       "      <td>36</td>\n",
       "      <td>5640</td>\n",
       "      <td>313.333</td>\n",
       "      <td>282.00</td>\n",
       "      <td>1.205127e+05</td>\n",
       "      <td>3.398458e+07</td>\n",
       "    </tr>\n",
       "    <tr>\n",
       "      <th>975</th>\n",
       "      <td>28</td>\n",
       "      <td>23</td>\n",
       "      <td>44</td>\n",
       "      <td>6959</td>\n",
       "      <td>302.565</td>\n",
       "      <td>347.95</td>\n",
       "      <td>1.163712e+05</td>\n",
       "      <td>4.049134e+07</td>\n",
       "    </tr>\n",
       "    <tr>\n",
       "      <th>976</th>\n",
       "      <td>23</td>\n",
       "      <td>14</td>\n",
       "      <td>30</td>\n",
       "      <td>4464</td>\n",
       "      <td>318.857</td>\n",
       "      <td>223.20</td>\n",
       "      <td>1.226373e+05</td>\n",
       "      <td>2.737265e+07</td>\n",
       "    </tr>\n",
       "    <tr>\n",
       "      <th>977</th>\n",
       "      <td>25</td>\n",
       "      <td>13</td>\n",
       "      <td>28</td>\n",
       "      <td>4066</td>\n",
       "      <td>312.769</td>\n",
       "      <td>203.30</td>\n",
       "      <td>1.202958e+05</td>\n",
       "      <td>2.445613e+07</td>\n",
       "    </tr>\n",
       "    <tr>\n",
       "      <th>978</th>\n",
       "      <td>26</td>\n",
       "      <td>21</td>\n",
       "      <td>35</td>\n",
       "      <td>5140</td>\n",
       "      <td>244.762</td>\n",
       "      <td>257.00</td>\n",
       "      <td>9.413923e+04</td>\n",
       "      <td>2.419378e+07</td>\n",
       "    </tr>\n",
       "    <tr>\n",
       "      <th>979</th>\n",
       "      <td>28</td>\n",
       "      <td>21</td>\n",
       "      <td>42</td>\n",
       "      <td>6323</td>\n",
       "      <td>301.095</td>\n",
       "      <td>316.15</td>\n",
       "      <td>1.158058e+05</td>\n",
       "      <td>3.661199e+07</td>\n",
       "    </tr>\n",
       "    <tr>\n",
       "      <th>980</th>\n",
       "      <td>28</td>\n",
       "      <td>20</td>\n",
       "      <td>43</td>\n",
       "      <td>6836</td>\n",
       "      <td>341.800</td>\n",
       "      <td>341.80</td>\n",
       "      <td>1.314615e+05</td>\n",
       "      <td>4.493355e+07</td>\n",
       "    </tr>\n",
       "    <tr>\n",
       "      <th>981</th>\n",
       "      <td>28</td>\n",
       "      <td>14</td>\n",
       "      <td>26</td>\n",
       "      <td>4123</td>\n",
       "      <td>294.500</td>\n",
       "      <td>206.15</td>\n",
       "      <td>1.132692e+05</td>\n",
       "      <td>2.335045e+07</td>\n",
       "    </tr>\n",
       "    <tr>\n",
       "      <th>982</th>\n",
       "      <td>28</td>\n",
       "      <td>17</td>\n",
       "      <td>36</td>\n",
       "      <td>30937</td>\n",
       "      <td>1819.824</td>\n",
       "      <td>1546.85</td>\n",
       "      <td>6.999323e+05</td>\n",
       "      <td>1.082690e+09</td>\n",
       "    </tr>\n",
       "    <tr>\n",
       "      <th>983</th>\n",
       "      <td>26</td>\n",
       "      <td>21</td>\n",
       "      <td>33</td>\n",
       "      <td>56125</td>\n",
       "      <td>2672.619</td>\n",
       "      <td>2806.25</td>\n",
       "      <td>1.027930e+06</td>\n",
       "      <td>2.884630e+09</td>\n",
       "    </tr>\n",
       "    <tr>\n",
       "      <th>984</th>\n",
       "      <td>23</td>\n",
       "      <td>15</td>\n",
       "      <td>28</td>\n",
       "      <td>4057</td>\n",
       "      <td>270.467</td>\n",
       "      <td>202.85</td>\n",
       "      <td>1.040258e+05</td>\n",
       "      <td>2.110163e+07</td>\n",
       "    </tr>\n",
       "    <tr>\n",
       "      <th>985</th>\n",
       "      <td>24</td>\n",
       "      <td>21</td>\n",
       "      <td>43</td>\n",
       "      <td>6580</td>\n",
       "      <td>313.333</td>\n",
       "      <td>329.00</td>\n",
       "      <td>1.205127e+05</td>\n",
       "      <td>3.964868e+07</td>\n",
       "    </tr>\n",
       "    <tr>\n",
       "      <th>986</th>\n",
       "      <td>28</td>\n",
       "      <td>22</td>\n",
       "      <td>40</td>\n",
       "      <td>5822</td>\n",
       "      <td>264.636</td>\n",
       "      <td>291.10</td>\n",
       "      <td>1.017831e+05</td>\n",
       "      <td>2.962905e+07</td>\n",
       "    </tr>\n",
       "    <tr>\n",
       "      <th>987</th>\n",
       "      <td>29</td>\n",
       "      <td>21</td>\n",
       "      <td>38</td>\n",
       "      <td>5825</td>\n",
       "      <td>277.381</td>\n",
       "      <td>291.25</td>\n",
       "      <td>1.066850e+05</td>\n",
       "      <td>3.107201e+07</td>\n",
       "    </tr>\n",
       "    <tr>\n",
       "      <th>988</th>\n",
       "      <td>27</td>\n",
       "      <td>16</td>\n",
       "      <td>24</td>\n",
       "      <td>3651</td>\n",
       "      <td>228.188</td>\n",
       "      <td>182.55</td>\n",
       "      <td>8.776462e+04</td>\n",
       "      <td>1.602143e+07</td>\n",
       "    </tr>\n",
       "    <tr>\n",
       "      <th>989</th>\n",
       "      <td>26</td>\n",
       "      <td>16</td>\n",
       "      <td>32</td>\n",
       "      <td>4656</td>\n",
       "      <td>291.000</td>\n",
       "      <td>232.80</td>\n",
       "      <td>1.119231e+05</td>\n",
       "      <td>2.605569e+07</td>\n",
       "    </tr>\n",
       "    <tr>\n",
       "      <th>990</th>\n",
       "      <td>20</td>\n",
       "      <td>19</td>\n",
       "      <td>41</td>\n",
       "      <td>31855</td>\n",
       "      <td>1676.579</td>\n",
       "      <td>1592.75</td>\n",
       "      <td>6.448381e+05</td>\n",
       "      <td>1.027066e+09</td>\n",
       "    </tr>\n",
       "    <tr>\n",
       "      <th>991</th>\n",
       "      <td>22</td>\n",
       "      <td>14</td>\n",
       "      <td>28</td>\n",
       "      <td>4375</td>\n",
       "      <td>312.500</td>\n",
       "      <td>218.75</td>\n",
       "      <td>1.201923e+05</td>\n",
       "      <td>2.629207e+07</td>\n",
       "    </tr>\n",
       "    <tr>\n",
       "      <th>992</th>\n",
       "      <td>27</td>\n",
       "      <td>20</td>\n",
       "      <td>37</td>\n",
       "      <td>5850</td>\n",
       "      <td>292.500</td>\n",
       "      <td>292.50</td>\n",
       "      <td>1.125000e+05</td>\n",
       "      <td>3.290625e+07</td>\n",
       "    </tr>\n",
       "    <tr>\n",
       "      <th>993</th>\n",
       "      <td>28</td>\n",
       "      <td>12</td>\n",
       "      <td>29</td>\n",
       "      <td>4163</td>\n",
       "      <td>346.917</td>\n",
       "      <td>208.15</td>\n",
       "      <td>1.334296e+05</td>\n",
       "      <td>2.777337e+07</td>\n",
       "    </tr>\n",
       "    <tr>\n",
       "      <th>994</th>\n",
       "      <td>28</td>\n",
       "      <td>21</td>\n",
       "      <td>43</td>\n",
       "      <td>6486</td>\n",
       "      <td>308.857</td>\n",
       "      <td>324.30</td>\n",
       "      <td>1.187912e+05</td>\n",
       "      <td>3.852397e+07</td>\n",
       "    </tr>\n",
       "    <tr>\n",
       "      <th>995</th>\n",
       "      <td>24</td>\n",
       "      <td>15</td>\n",
       "      <td>35</td>\n",
       "      <td>5316</td>\n",
       "      <td>354.400</td>\n",
       "      <td>265.80</td>\n",
       "      <td>1.363077e+05</td>\n",
       "      <td>3.623058e+07</td>\n",
       "    </tr>\n",
       "    <tr>\n",
       "      <th>996</th>\n",
       "      <td>27</td>\n",
       "      <td>21</td>\n",
       "      <td>37</td>\n",
       "      <td>5312</td>\n",
       "      <td>252.952</td>\n",
       "      <td>265.60</td>\n",
       "      <td>9.728923e+04</td>\n",
       "      <td>2.584002e+07</td>\n",
       "    </tr>\n",
       "    <tr>\n",
       "      <th>997</th>\n",
       "      <td>24</td>\n",
       "      <td>13</td>\n",
       "      <td>24</td>\n",
       "      <td>29236</td>\n",
       "      <td>2248.923</td>\n",
       "      <td>1461.80</td>\n",
       "      <td>8.649704e+05</td>\n",
       "      <td>1.264414e+09</td>\n",
       "    </tr>\n",
       "    <tr>\n",
       "      <th>998</th>\n",
       "      <td>23</td>\n",
       "      <td>9</td>\n",
       "      <td>18</td>\n",
       "      <td>2620</td>\n",
       "      <td>291.111</td>\n",
       "      <td>131.00</td>\n",
       "      <td>1.119658e+05</td>\n",
       "      <td>1.466752e+07</td>\n",
       "    </tr>\n",
       "    <tr>\n",
       "      <th>999</th>\n",
       "      <td>26</td>\n",
       "      <td>24</td>\n",
       "      <td>47</td>\n",
       "      <td>7195</td>\n",
       "      <td>299.792</td>\n",
       "      <td>359.75</td>\n",
       "      <td>1.153046e+05</td>\n",
       "      <td>4.148084e+07</td>\n",
       "    </tr>\n",
       "  </tbody>\n",
       "</table>\n",
       "</div>"
      ],
      "text/plain": [
       "         Duration  Frequency  Total Quantity  Total Order Amount       AOV  \\\n",
       "user_id                                                                      \n",
       "970            26         20              42               31449  1572.450   \n",
       "971            25         15              30                4560   304.000   \n",
       "972            24         17              36                5171   304.176   \n",
       "973            23         11              24                3062   278.364   \n",
       "974            27         18              36                5640   313.333   \n",
       "975            28         23              44                6959   302.565   \n",
       "976            23         14              30                4464   318.857   \n",
       "977            25         13              28                4066   312.769   \n",
       "978            26         21              35                5140   244.762   \n",
       "979            28         21              42                6323   301.095   \n",
       "980            28         20              43                6836   341.800   \n",
       "981            28         14              26                4123   294.500   \n",
       "982            28         17              36               30937  1819.824   \n",
       "983            26         21              33               56125  2672.619   \n",
       "984            23         15              28                4057   270.467   \n",
       "985            24         21              43                6580   313.333   \n",
       "986            28         22              40                5822   264.636   \n",
       "987            29         21              38                5825   277.381   \n",
       "988            27         16              24                3651   228.188   \n",
       "989            26         16              32                4656   291.000   \n",
       "990            20         19              41               31855  1676.579   \n",
       "991            22         14              28                4375   312.500   \n",
       "992            27         20              37                5850   292.500   \n",
       "993            28         12              29                4163   346.917   \n",
       "994            28         21              43                6486   308.857   \n",
       "995            24         15              35                5316   354.400   \n",
       "996            27         21              37                5312   252.952   \n",
       "997            24         13              24               29236  2248.923   \n",
       "998            23          9              18                2620   291.111   \n",
       "999            26         24              47                7195   299.792   \n",
       "\n",
       "         Profit_Margin  Customer_Value  Customer Lifetime Value  \n",
       "user_id                                                          \n",
       "970            1572.45    6.047885e+05             9.509996e+08  \n",
       "971             228.00    1.169231e+05             2.665846e+07  \n",
       "972             258.55    1.169908e+05             3.024796e+07  \n",
       "973             153.10    1.070631e+05             1.639136e+07  \n",
       "974             282.00    1.205127e+05             3.398458e+07  \n",
       "975             347.95    1.163712e+05             4.049134e+07  \n",
       "976             223.20    1.226373e+05             2.737265e+07  \n",
       "977             203.30    1.202958e+05             2.445613e+07  \n",
       "978             257.00    9.413923e+04             2.419378e+07  \n",
       "979             316.15    1.158058e+05             3.661199e+07  \n",
       "980             341.80    1.314615e+05             4.493355e+07  \n",
       "981             206.15    1.132692e+05             2.335045e+07  \n",
       "982            1546.85    6.999323e+05             1.082690e+09  \n",
       "983            2806.25    1.027930e+06             2.884630e+09  \n",
       "984             202.85    1.040258e+05             2.110163e+07  \n",
       "985             329.00    1.205127e+05             3.964868e+07  \n",
       "986             291.10    1.017831e+05             2.962905e+07  \n",
       "987             291.25    1.066850e+05             3.107201e+07  \n",
       "988             182.55    8.776462e+04             1.602143e+07  \n",
       "989             232.80    1.119231e+05             2.605569e+07  \n",
       "990            1592.75    6.448381e+05             1.027066e+09  \n",
       "991             218.75    1.201923e+05             2.629207e+07  \n",
       "992             292.50    1.125000e+05             3.290625e+07  \n",
       "993             208.15    1.334296e+05             2.777337e+07  \n",
       "994             324.30    1.187912e+05             3.852397e+07  \n",
       "995             265.80    1.363077e+05             3.623058e+07  \n",
       "996             265.60    9.728923e+04             2.584002e+07  \n",
       "997            1461.80    8.649704e+05             1.264414e+09  \n",
       "998             131.00    1.119658e+05             1.466752e+07  \n",
       "999             359.75    1.153046e+05             4.148084e+07  "
      ]
     },
     "execution_count": 153,
     "metadata": {},
     "output_type": "execute_result"
    }
   ],
   "source": [
    "CLV_df_group.tail(n=30)"
   ]
  },
  {
   "cell_type": "code",
   "execution_count": 154,
   "id": "4ffd4fda",
   "metadata": {},
   "outputs": [],
   "source": [
    "CLV_df_group = CLV_df_group.sort_values(by='Customer Lifetime Value',ascending = False)"
   ]
  },
  {
   "cell_type": "code",
   "execution_count": 158,
   "id": "7feff41d",
   "metadata": {},
   "outputs": [
    {
     "data": {
      "text/html": [
       "<div>\n",
       "<style scoped>\n",
       "    .dataframe tbody tr th:only-of-type {\n",
       "        vertical-align: middle;\n",
       "    }\n",
       "\n",
       "    .dataframe tbody tr th {\n",
       "        vertical-align: top;\n",
       "    }\n",
       "\n",
       "    .dataframe thead th {\n",
       "        text-align: right;\n",
       "    }\n",
       "</style>\n",
       "<table border=\"1\" class=\"dataframe\">\n",
       "  <thead>\n",
       "    <tr style=\"text-align: right;\">\n",
       "      <th></th>\n",
       "      <th>Duration</th>\n",
       "      <th>Frequency</th>\n",
       "      <th>Total Quantity</th>\n",
       "      <th>Total Order Amount</th>\n",
       "      <th>AOV</th>\n",
       "      <th>Profit_Margin</th>\n",
       "      <th>Customer_Value</th>\n",
       "      <th>Customer Lifetime Value</th>\n",
       "    </tr>\n",
       "    <tr>\n",
       "      <th>user_id</th>\n",
       "      <th></th>\n",
       "      <th></th>\n",
       "      <th></th>\n",
       "      <th></th>\n",
       "      <th></th>\n",
       "      <th></th>\n",
       "      <th></th>\n",
       "      <th></th>\n",
       "    </tr>\n",
       "  </thead>\n",
       "  <tbody>\n",
       "    <tr>\n",
       "      <th>607</th>\n",
       "      <td>26</td>\n",
       "      <td>17</td>\n",
       "      <td>34000</td>\n",
       "      <td>11968000</td>\n",
       "      <td>704000.00</td>\n",
       "      <td>598400.00</td>\n",
       "      <td>270769230.77</td>\n",
       "      <td>162028307692307.88</td>\n",
       "    </tr>\n",
       "    <tr>\n",
       "      <th>878</th>\n",
       "      <td>25</td>\n",
       "      <td>11</td>\n",
       "      <td>24</td>\n",
       "      <td>156936</td>\n",
       "      <td>14266.91</td>\n",
       "      <td>7846.80</td>\n",
       "      <td>5487272.69</td>\n",
       "      <td>43057531362.00</td>\n",
       "    </tr>\n",
       "    <tr>\n",
       "      <th>834</th>\n",
       "      <td>26</td>\n",
       "      <td>18</td>\n",
       "      <td>38</td>\n",
       "      <td>108342</td>\n",
       "      <td>6019.00</td>\n",
       "      <td>5417.10</td>\n",
       "      <td>2315000.00</td>\n",
       "      <td>12540586500.00</td>\n",
       "    </tr>\n",
       "    <tr>\n",
       "      <th>766</th>\n",
       "      <td>23</td>\n",
       "      <td>10</td>\n",
       "      <td>23</td>\n",
       "      <td>80076</td>\n",
       "      <td>8007.60</td>\n",
       "      <td>4003.80</td>\n",
       "      <td>3079846.15</td>\n",
       "      <td>12331088030.77</td>\n",
       "    </tr>\n",
       "    <tr>\n",
       "      <th>915</th>\n",
       "      <td>29</td>\n",
       "      <td>14</td>\n",
       "      <td>29</td>\n",
       "      <td>80992</td>\n",
       "      <td>5785.14</td>\n",
       "      <td>4049.60</td>\n",
       "      <td>2225055.00</td>\n",
       "      <td>9010582728.00</td>\n",
       "    </tr>\n",
       "    <tr>\n",
       "      <th>962</th>\n",
       "      <td>26</td>\n",
       "      <td>14</td>\n",
       "      <td>24</td>\n",
       "      <td>80408</td>\n",
       "      <td>5743.43</td>\n",
       "      <td>4020.40</td>\n",
       "      <td>2209011.15</td>\n",
       "      <td>8881108442.92</td>\n",
       "    </tr>\n",
       "    <tr>\n",
       "      <th>775</th>\n",
       "      <td>24</td>\n",
       "      <td>16</td>\n",
       "      <td>28</td>\n",
       "      <td>81114</td>\n",
       "      <td>5069.62</td>\n",
       "      <td>4055.70</td>\n",
       "      <td>1949855.77</td>\n",
       "      <td>7908030043.27</td>\n",
       "    </tr>\n",
       "    <tr>\n",
       "      <th>817</th>\n",
       "      <td>25</td>\n",
       "      <td>16</td>\n",
       "      <td>30</td>\n",
       "      <td>80988</td>\n",
       "      <td>5061.75</td>\n",
       "      <td>4049.40</td>\n",
       "      <td>1946826.92</td>\n",
       "      <td>7883480942.31</td>\n",
       "    </tr>\n",
       "    <tr>\n",
       "      <th>928</th>\n",
       "      <td>26</td>\n",
       "      <td>16</td>\n",
       "      <td>28</td>\n",
       "      <td>80668</td>\n",
       "      <td>5041.75</td>\n",
       "      <td>4033.40</td>\n",
       "      <td>1939134.62</td>\n",
       "      <td>7821305557.69</td>\n",
       "    </tr>\n",
       "    <tr>\n",
       "      <th>855</th>\n",
       "      <td>27</td>\n",
       "      <td>17</td>\n",
       "      <td>27</td>\n",
       "      <td>80915</td>\n",
       "      <td>4759.71</td>\n",
       "      <td>4045.75</td>\n",
       "      <td>1830656.15</td>\n",
       "      <td>7406377134.42</td>\n",
       "    </tr>\n",
       "  </tbody>\n",
       "</table>\n",
       "</div>"
      ],
      "text/plain": [
       "         Duration  Frequency  Total Quantity  Total Order Amount       AOV  \\\n",
       "user_id                                                                      \n",
       "607            26         17           34000            11968000 704000.00   \n",
       "878            25         11              24              156936  14266.91   \n",
       "834            26         18              38              108342   6019.00   \n",
       "766            23         10              23               80076   8007.60   \n",
       "915            29         14              29               80992   5785.14   \n",
       "962            26         14              24               80408   5743.43   \n",
       "775            24         16              28               81114   5069.62   \n",
       "817            25         16              30               80988   5061.75   \n",
       "928            26         16              28               80668   5041.75   \n",
       "855            27         17              27               80915   4759.71   \n",
       "\n",
       "         Profit_Margin  Customer_Value  Customer Lifetime Value  \n",
       "user_id                                                          \n",
       "607          598400.00    270769230.77       162028307692307.88  \n",
       "878            7846.80      5487272.69           43057531362.00  \n",
       "834            5417.10      2315000.00           12540586500.00  \n",
       "766            4003.80      3079846.15           12331088030.77  \n",
       "915            4049.60      2225055.00            9010582728.00  \n",
       "962            4020.40      2209011.15            8881108442.92  \n",
       "775            4055.70      1949855.77            7908030043.27  \n",
       "817            4049.40      1946826.92            7883480942.31  \n",
       "928            4033.40      1939134.62            7821305557.69  \n",
       "855            4045.75      1830656.15            7406377134.42  "
      ]
     },
     "execution_count": 158,
     "metadata": {},
     "output_type": "execute_result"
    }
   ],
   "source": [
    "pd.set_option('display.float_format',lambda x : '%.2f' % x)\n",
    "CLV_df_group.head(n=10)"
   ]
  },
  {
   "cell_type": "code",
   "execution_count": 159,
   "id": "819ffd4f",
   "metadata": {},
   "outputs": [
    {
     "data": {
      "text/html": [
       "<div>\n",
       "<style scoped>\n",
       "    .dataframe tbody tr th:only-of-type {\n",
       "        vertical-align: middle;\n",
       "    }\n",
       "\n",
       "    .dataframe tbody tr th {\n",
       "        vertical-align: top;\n",
       "    }\n",
       "\n",
       "    .dataframe thead th {\n",
       "        text-align: right;\n",
       "    }\n",
       "</style>\n",
       "<table border=\"1\" class=\"dataframe\">\n",
       "  <thead>\n",
       "    <tr style=\"text-align: right;\">\n",
       "      <th></th>\n",
       "      <th>Duration</th>\n",
       "      <th>Frequency</th>\n",
       "      <th>Total Quantity</th>\n",
       "      <th>Total Order Amount</th>\n",
       "      <th>AOV</th>\n",
       "      <th>Profit_Margin</th>\n",
       "      <th>Customer_Value</th>\n",
       "      <th>Customer Lifetime Value</th>\n",
       "    </tr>\n",
       "    <tr>\n",
       "      <th>user_id</th>\n",
       "      <th></th>\n",
       "      <th></th>\n",
       "      <th></th>\n",
       "      <th></th>\n",
       "      <th></th>\n",
       "      <th></th>\n",
       "      <th></th>\n",
       "      <th></th>\n",
       "    </tr>\n",
       "  </thead>\n",
       "  <tbody>\n",
       "    <tr>\n",
       "      <th>998</th>\n",
       "      <td>23</td>\n",
       "      <td>9</td>\n",
       "      <td>18</td>\n",
       "      <td>2620</td>\n",
       "      <td>291.11</td>\n",
       "      <td>131.00</td>\n",
       "      <td>111965.77</td>\n",
       "      <td>14667515.77</td>\n",
       "    </tr>\n",
       "    <tr>\n",
       "      <th>751</th>\n",
       "      <td>15</td>\n",
       "      <td>11</td>\n",
       "      <td>19</td>\n",
       "      <td>2880</td>\n",
       "      <td>261.82</td>\n",
       "      <td>144.00</td>\n",
       "      <td>100699.23</td>\n",
       "      <td>14500689.23</td>\n",
       "    </tr>\n",
       "    <tr>\n",
       "      <th>722</th>\n",
       "      <td>28</td>\n",
       "      <td>13</td>\n",
       "      <td>21</td>\n",
       "      <td>3130</td>\n",
       "      <td>240.77</td>\n",
       "      <td>156.50</td>\n",
       "      <td>92603.46</td>\n",
       "      <td>14492441.73</td>\n",
       "    </tr>\n",
       "    <tr>\n",
       "      <th>882</th>\n",
       "      <td>27</td>\n",
       "      <td>11</td>\n",
       "      <td>18</td>\n",
       "      <td>2854</td>\n",
       "      <td>259.45</td>\n",
       "      <td>142.70</td>\n",
       "      <td>99790.38</td>\n",
       "      <td>14240087.88</td>\n",
       "    </tr>\n",
       "    <tr>\n",
       "      <th>827</th>\n",
       "      <td>27</td>\n",
       "      <td>14</td>\n",
       "      <td>21</td>\n",
       "      <td>3171</td>\n",
       "      <td>226.50</td>\n",
       "      <td>158.55</td>\n",
       "      <td>87115.38</td>\n",
       "      <td>13812144.23</td>\n",
       "    </tr>\n",
       "    <tr>\n",
       "      <th>892</th>\n",
       "      <td>27</td>\n",
       "      <td>13</td>\n",
       "      <td>20</td>\n",
       "      <td>2955</td>\n",
       "      <td>227.31</td>\n",
       "      <td>147.75</td>\n",
       "      <td>87426.15</td>\n",
       "      <td>12917214.23</td>\n",
       "    </tr>\n",
       "    <tr>\n",
       "      <th>806</th>\n",
       "      <td>21</td>\n",
       "      <td>10</td>\n",
       "      <td>19</td>\n",
       "      <td>2572</td>\n",
       "      <td>257.20</td>\n",
       "      <td>128.60</td>\n",
       "      <td>98923.08</td>\n",
       "      <td>12721507.69</td>\n",
       "    </tr>\n",
       "    <tr>\n",
       "      <th>719</th>\n",
       "      <td>29</td>\n",
       "      <td>9</td>\n",
       "      <td>15</td>\n",
       "      <td>2314</td>\n",
       "      <td>257.11</td>\n",
       "      <td>115.70</td>\n",
       "      <td>98888.85</td>\n",
       "      <td>11441439.50</td>\n",
       "    </tr>\n",
       "    <tr>\n",
       "      <th>902</th>\n",
       "      <td>27</td>\n",
       "      <td>9</td>\n",
       "      <td>14</td>\n",
       "      <td>2108</td>\n",
       "      <td>234.22</td>\n",
       "      <td>105.40</td>\n",
       "      <td>90085.38</td>\n",
       "      <td>9494999.54</td>\n",
       "    </tr>\n",
       "    <tr>\n",
       "      <th>939</th>\n",
       "      <td>22</td>\n",
       "      <td>10</td>\n",
       "      <td>15</td>\n",
       "      <td>2196</td>\n",
       "      <td>219.60</td>\n",
       "      <td>109.80</td>\n",
       "      <td>84461.54</td>\n",
       "      <td>9273876.92</td>\n",
       "    </tr>\n",
       "  </tbody>\n",
       "</table>\n",
       "</div>"
      ],
      "text/plain": [
       "         Duration  Frequency  Total Quantity  Total Order Amount    AOV  \\\n",
       "user_id                                                                   \n",
       "998            23          9              18                2620 291.11   \n",
       "751            15         11              19                2880 261.82   \n",
       "722            28         13              21                3130 240.77   \n",
       "882            27         11              18                2854 259.45   \n",
       "827            27         14              21                3171 226.50   \n",
       "892            27         13              20                2955 227.31   \n",
       "806            21         10              19                2572 257.20   \n",
       "719            29          9              15                2314 257.11   \n",
       "902            27          9              14                2108 234.22   \n",
       "939            22         10              15                2196 219.60   \n",
       "\n",
       "         Profit_Margin  Customer_Value  Customer Lifetime Value  \n",
       "user_id                                                          \n",
       "998             131.00       111965.77              14667515.77  \n",
       "751             144.00       100699.23              14500689.23  \n",
       "722             156.50        92603.46              14492441.73  \n",
       "882             142.70        99790.38              14240087.88  \n",
       "827             158.55        87115.38              13812144.23  \n",
       "892             147.75        87426.15              12917214.23  \n",
       "806             128.60        98923.08              12721507.69  \n",
       "719             115.70        98888.85              11441439.50  \n",
       "902             105.40        90085.38               9494999.54  \n",
       "939             109.80        84461.54               9273876.92  "
      ]
     },
     "execution_count": 159,
     "metadata": {},
     "output_type": "execute_result"
    }
   ],
   "source": [
    "CLV_df_group.tail(n=10)"
   ]
  },
  {
   "cell_type": "code",
   "execution_count": null,
   "id": "358428a5",
   "metadata": {},
   "outputs": [],
   "source": []
  }
 ],
 "metadata": {
  "kernelspec": {
   "display_name": "Python 3 (ipykernel)",
   "language": "python",
   "name": "python3"
  },
  "language_info": {
   "codemirror_mode": {
    "name": "ipython",
    "version": 3
   },
   "file_extension": ".py",
   "mimetype": "text/x-python",
   "name": "python",
   "nbconvert_exporter": "python",
   "pygments_lexer": "ipython3",
   "version": "3.8.8"
  }
 },
 "nbformat": 4,
 "nbformat_minor": 5
}
